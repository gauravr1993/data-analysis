{
 "cells": [
  {
   "cell_type": "code",
   "execution_count": 1,
   "metadata": {
    "collapsed": true
   },
   "outputs": [],
   "source": [
    "import numpy as np\n",
    "import pandas as pd\n",
    "import nltk\n",
    "from nltk.tokenize import sent_tokenize, word_tokenize\n",
    "from nltk.corpus import stopwords\n",
    "from nltk.stem import WordNetLemmatizer\n",
    "from nltk.corpus import wordnet as wn\n",
    "from nltk.corpus import sentiwordnet as swn\n",
    "from nltk import pos_tag"
   ]
  },
  {
   "cell_type": "code",
   "execution_count": 50,
   "metadata": {
    "collapsed": false
   },
   "outputs": [
    {
     "data": {
      "text/plain": [
       "'[Exceptionally friendly and helpful staff, clean room that hab the advertised view and good food at the rooftop restaurant!\\r\\nIn addition, I took the camel safari the hotel offeres: no mass camp, no folklore, just a few people, a few camels and the...More, This hotel was my favorite from my entire India experience! The staff was very friendly and accommodating.  They didn\\'t give me complimentary airport transport and my a/c didn\\'t work, knew this going in, no surprise. \\r\\nHowever, they did watch out for me being a solo...More, We all search for the best deals for hotels whenever we plan a trip! \\r\\nThis was my solo trip and this place is definitely a place to stay, when in Jaisalmer\\r\\nBRIEF - \\r\\nIt immediately feels like a home the moment you enter the...More, I had a very pleasant stay in \"Mystic Jaisalmer\" staff is friendly and helpful, owner of the place is always open for conversation and can recommend places around. Food is great, location is also superb walking distance from everything important. Rooms are clean, everything essential...More, I stayed for 2 nights at Mystic Jaisalmer Hotel and it was just awesome. You will be welcomed warm-hearted. The rooms are super cozy, clean and everything you will need is provided. The staff is always friendly and happy to help you. You can have...More]'"
      ]
     },
     "execution_count": 50,
     "metadata": {},
     "output_type": "execute_result"
    }
   ],
   "source": [
    "data = pd.read_csv('Hotel_Data.csv')\n",
    "data.head()['Reviews'][0]"
   ]
  },
  {
   "cell_type": "code",
   "execution_count": 52,
   "metadata": {
    "collapsed": false
   },
   "outputs": [
    {
     "name": "stdout",
     "output_type": "stream",
     "text": [
      "10.0 4.375\n",
      "20.125 2.875\n",
      "11.5 2.5\n",
      "11.875 4.0\n",
      "8.25 2.125\n"
     ]
    }
   ],
   "source": [
    "reviews = data.head()['Reviews']\n",
    "for review in reviews:\n",
    "    token_word = word_tokenize(review)\n",
    "    stop_words = set(stopwords.words('english'))\n",
    "    filtered_sentence = [w for w in token_word if not w in stop_words]\n",
    "    def penn_to_wn(tag):\n",
    "        if tag.startswith('J'):\n",
    "            return wn.ADJ\n",
    "        elif tag.startswith('N'):\n",
    "            return wn.NOUN\n",
    "        elif tag.startswith('R'):\n",
    "            return wn.ADV\n",
    "        elif tag.startswith('V'):\n",
    "            return wn.VERB\n",
    "        return None\n",
    "\n",
    "    tagged = nltk.pos_tag(filtered_sentence)\n",
    "    synsets = []\n",
    "    lemmatizer = WordNetLemmatizer()\n",
    "    pos_sum=0\n",
    "    neg_sum=0\n",
    "    for token in tagged:\n",
    "        wn_tag = penn_to_wn(token[1])\n",
    "        if not wn_tag:\n",
    "            continue\n",
    "        lemma = lemmatizer.lemmatize(token[0], pos=wn_tag)\n",
    "        if wn.synsets(lemma, pos=wn_tag):\n",
    "            current_token=list(swn.senti_synsets(lemma, pos=wn_tag))[0]\n",
    "            pos_sum+=current_token.pos_score()\n",
    "            neg_sum+=current_token.neg_score()\n",
    "            synsets.append(current_token)\n",
    "    result = pos_sum - neg_sum\n",
    "    print pos_sum, neg_sum\n",
    "#review"
   ]
  },
  {
   "cell_type": "code",
   "execution_count": 39,
   "metadata": {
    "collapsed": false
   },
   "outputs": [
    {
     "data": {
      "text/plain": [
       "0"
      ]
     },
     "execution_count": 39,
     "metadata": {},
     "output_type": "execute_result"
    }
   ],
   "source": [
    "result"
   ]
  }
 ],
 "metadata": {
  "kernelspec": {
   "display_name": "Python 2",
   "language": "python",
   "name": "python2"
  },
  "language_info": {
   "codemirror_mode": {
    "name": "ipython",
    "version": 2
   },
   "file_extension": ".py",
   "mimetype": "text/x-python",
   "name": "python",
   "nbconvert_exporter": "python",
   "pygments_lexer": "ipython2",
   "version": "2.7.11"
  }
 },
 "nbformat": 4,
 "nbformat_minor": 1
}
