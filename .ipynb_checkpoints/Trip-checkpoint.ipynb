{
 "cells": [
  {
   "cell_type": "code",
   "execution_count": 1,
   "metadata": {
    "collapsed": true
   },
   "outputs": [],
   "source": [
    "import requests\n",
    "from bs4 import BeautifulSoup\n",
    "import re\n",
    "import numpy as np\n",
    "import pandas as pd"
   ]
  },
  {
   "cell_type": "code",
   "execution_count": null,
   "metadata": {
    "collapsed": false
   },
   "outputs": [],
   "source": [
    "url = 'https://www.tripadvisor.in/Hotels-g297667-Jaisalmer_Jaisalmer_District_Rajasthan-Hotels.html'\n",
    "resp = requests.get(url)\n",
    "html = resp.text\n",
    "soup = BeautifulSoup(html)\n",
    "#print soup"
   ]
  },
  {
   "cell_type": "code",
   "execution_count": null,
   "metadata": {
    "collapsed": false
   },
   "outputs": [],
   "source": [
    "hotel_name = [app.contents[0] for app in soup.select('a.property_title')]\n",
    "review_count = [app.contents[0].split()[0] for app in soup.select('a.review_count')]\n",
    "rating = [app for app in soup.select('span.ui_bubble_rating')]\n",
    "rank = [rank.contents[0].split()[0] for rank in  soup.select('div.popindex')]\n",
    "hotel_link = [app['href'] for app in soup.select('a.property_title')]\n",
    "hotel_facilities = []\n",
    "for ul_tag in soup.select('ul.icons_list'):\n",
    "    facility = []\n",
    "    for li_tag in ul_tag.find_all('li',{'class' : 'hotel_icon'}):\n",
    "        for div_tag in li_tag.find('div',{'class':'label'}):\n",
    "            facility.append(div_tag)\n",
    "    hotel_facilities.append(facility)\n",
    "\n",
    "print hotel_facilities"
   ]
  },
  {
   "cell_type": "code",
   "execution_count": null,
   "metadata": {
    "collapsed": false
   },
   "outputs": [],
   "source": [
    "'''url2 = 'https://www.tripadvisor.in' + '/Hotel_Review-g297667-d2196837-Reviews-Hotel_Akashdeep-Jaisalmer_Jaisalmer_District_Rajasthan.html'\n",
    "response = requests.get(url2)\n",
    "soup2 = BeautifulSoup(response.text)\n",
    "#print soup2\n",
    "amenity = []\n",
    "for el in soup2.find_all(\"div\", {'class':'highlightedAmenity detailListItem'}):\n",
    "        amenity.append(el.get_text())\n",
    "print amenity'''"
   ]
  },
  {
   "cell_type": "code",
   "execution_count": null,
   "metadata": {
    "collapsed": false
   },
   "outputs": [],
   "source": [
    "'''Amenities_List = {}\n",
    "for link in hotel_link:\n",
    "    review_url =  'https://www.tripadvisor.in' + link\n",
    "    response = requests.get(review_url)\n",
    "    soup2 = BeautifulSoup(response.text)\n",
    "    amenity = []\n",
    "    for el in soup2.find_all(\"div\", {'class':'highlightedAmenity detailListItem'}):\n",
    "        amenity.append(el.get_text())\n",
    "    Amenities_List[link] = amenity\n",
    "'''"
   ]
  },
  {
   "cell_type": "code",
   "execution_count": null,
   "metadata": {
    "collapsed": false
   },
   "outputs": [],
   "source": [
    "print len(hotel_link)\n",
    "#Amenities_List"
   ]
  },
  {
   "cell_type": "code",
   "execution_count": null,
   "metadata": {
    "collapsed": true
   },
   "outputs": [],
   "source": [
    "Review_List = []\n",
    "for link in hotel_link:\n",
    "    review_url =  'https://www.tripadvisor.in' + link\n",
    "    response = requests.get(review_url)\n",
    "    soup2 = BeautifulSoup(response.text)\n",
    "    #review_header = [app.text for app in soup2.select('span.noQuotes')]\n",
    "    reviews = [app.text for app in soup2.select('p.partial_entry')]\n",
    "    Review_List.append(reviews)"
   ]
  },
  {
   "cell_type": "code",
   "execution_count": null,
   "metadata": {
    "collapsed": false
   },
   "outputs": [],
   "source": [
    "Hotel_reviews = pd.DataFrame({\n",
    "        'Hotel Name' : hotel_name,\n",
    "        'Hotel Rating' : rating,\n",
    "        'Number of Reviews' : review_count,\n",
    "        'Top Facilities' : hotel_facilities,\n",
    "        'Reviews' : Review_List\n",
    "    },columns = ['Hotel Name','Hotel Rating','Number of Reviews','Top Facilities','Reviews'])"
   ]
  },
  {
   "cell_type": "code",
   "execution_count": null,
   "metadata": {
    "collapsed": true
   },
   "outputs": [],
   "source": [
    "Hotel_reviews.to_csv('Hotel_Data.csv', encoding='utf-8')"
   ]
  }
 ],
 "metadata": {
  "kernelspec": {
   "display_name": "Python 2",
   "language": "python",
   "name": "python2"
  },
  "language_info": {
   "codemirror_mode": {
    "name": "ipython",
    "version": 2
   },
   "file_extension": ".py",
   "mimetype": "text/x-python",
   "name": "python",
   "nbconvert_exporter": "python",
   "pygments_lexer": "ipython2",
   "version": "2.7.11"
  }
 },
 "nbformat": 4,
 "nbformat_minor": 1
}
