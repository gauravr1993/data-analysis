{
 "cells": [
  {
   "cell_type": "code",
   "execution_count": 1,
   "metadata": {},
   "outputs": [],
   "source": [
    "import numpy as np\n",
    "import pandas as pd\n",
    "import matplotlib.pyplot as plt # plotting"
   ]
  },
  {
   "cell_type": "code",
   "execution_count": 2,
   "metadata": {},
   "outputs": [],
   "source": [
    "train = pd.read_csv('train.csv')\n",
    "test = pd.read_csv('test.csv')"
   ]
  },
  {
   "cell_type": "code",
   "execution_count": 24,
   "metadata": {},
   "outputs": [
    {
     "name": "stdout",
     "output_type": "stream",
     "text": [
      "<class 'pandas.core.frame.DataFrame'>\n",
      "RangeIndex: 35866 entries, 0 to 35865\n",
      "Data columns (total 28 columns):\n",
      "loan_id                     35866 non-null int64\n",
      "source                      35866 non-null int64\n",
      "financial_institution       35866 non-null object\n",
      "interest_rate               35866 non-null float64\n",
      "unpaid_principal_bal        35866 non-null int64\n",
      "loan_term                   35866 non-null int64\n",
      "origination_date            35866 non-null object\n",
      "first_payment_date          35866 non-null object\n",
      "loan_to_value               35866 non-null int64\n",
      "number_of_borrowers         35866 non-null int64\n",
      "debt_to_income_ratio        35866 non-null int64\n",
      "borrower_credit_score       35866 non-null int64\n",
      "loan_purpose                35866 non-null int64\n",
      "insurance_percent           35866 non-null int64\n",
      "co-borrower_credit_score    35866 non-null int64\n",
      "insurance_type              35866 non-null int64\n",
      "m1                          35866 non-null int64\n",
      "m2                          35866 non-null int64\n",
      "m3                          35866 non-null int64\n",
      "m4                          35866 non-null int64\n",
      "m5                          35866 non-null int64\n",
      "m6                          35866 non-null int64\n",
      "m7                          35866 non-null int64\n",
      "m8                          35866 non-null int64\n",
      "m9                          35866 non-null int64\n",
      "m10                         35866 non-null int64\n",
      "m11                         35866 non-null int64\n",
      "m12                         35866 non-null int64\n",
      "dtypes: float64(1), int64(24), object(3)\n",
      "memory usage: 7.3+ MB\n"
     ]
    }
   ],
   "source": [
    "test.info()"
   ]
  },
  {
   "cell_type": "code",
   "execution_count": 4,
   "metadata": {},
   "outputs": [
    {
     "data": {
      "text/plain": [
       "<matplotlib.axes._subplots.AxesSubplot at 0x9a12730>"
      ]
     },
     "execution_count": 4,
     "metadata": {},
     "output_type": "execute_result"
    },
    {
     "data": {
      "text/plain": [
       "<Figure size 432x288 with 0 Axes>"
      ]
     },
     "metadata": {},
     "output_type": "display_data"
    },
    {
     "data": {
      "image/png": "[encoded data removed]",
      "text/plain": [
       "<Figure size 360x288 with 1 Axes>"
      ]
     },
     "metadata": {
      "needs_background": "light"
     },
     "output_type": "display_data"
    }
   ],
   "source": [
    "plt.figure(1)\n",
    "source=pd.crosstab(train['source'],train['m13'])\n",
    "source.div(source.sum(1).astype(float), axis=0).plot(kind=\"bar\", stacked=True, figsize=(5,4))"
   ]
  },
  {
   "cell_type": "code",
   "execution_count": 5,
   "metadata": {},
   "outputs": [],
   "source": [
    "source_mapping = {'X': 1, 'Y': 2, 'Z': 3,}\n",
    "train['source'] = train['source'].map(source_mapping)\n",
    "test['source'] = test['source'].map(source_mapping)"
   ]
  },
  {
   "cell_type": "code",
   "execution_count": 6,
   "metadata": {},
   "outputs": [],
   "source": [
    "loan_purpose_mapping = {'A23':1,'B12':2,'C86':3}\n",
    "train['loan_purpose'] = train['loan_purpose'].map(loan_purpose_mapping)\n",
    "test['loan_purpose'] = test['loan_purpose'].map(loan_purpose_mapping)"
   ]
  },
  {
   "cell_type": "code",
   "execution_count": 7,
   "metadata": {},
   "outputs": [],
   "source": [
    "train_hot_encoded = pd.get_dummies(train['financial_institution'])\n",
    "test_hot_encoded = pd.get_dummies(train['financial_institution'])"
   ]
  },
  {
   "cell_type": "code",
   "execution_count": 8,
   "metadata": {},
   "outputs": [],
   "source": [
    "new_train = pd.concat([train,train_hot_encoded],axis=1)\n",
    "new_test = pd.concat([train,test_hot_encoded],axis=1)"
   ]
  },
  {
   "cell_type": "code",
   "execution_count": 9,
   "metadata": {},
   "outputs": [],
   "source": [
    "new_train = new_train.drop(['loan_id','financial_institution','origination_date','first_payment_date'],axis=1)\n",
    "new_test = new_test.drop(['loan_id','financial_institution','origination_date','first_payment_date'],axis=1)"
   ]
  },
  {
   "cell_type": "code",
   "execution_count": 10,
   "metadata": {},
   "outputs": [
    {
     "data": {
      "text/html": [
       "<div>\n",
       "<style scoped>\n",
       "    .dataframe tbody tr th:only-of-type {\n",
       "        vertical-align: middle;\n",
       "    }\n",
       "\n",
       "    .dataframe tbody tr th {\n",
       "        vertical-align: top;\n",
       "    }\n",
       "\n",
       "    .dataframe thead th {\n",
       "        text-align: right;\n",
       "    }\n",
       "</style>\n",
       "<table border=\"1\" class=\"dataframe\">\n",
       "  <thead>\n",
       "    <tr style=\"text-align: right;\">\n",
       "      <th></th>\n",
       "      <th>source</th>\n",
       "      <th>interest_rate</th>\n",
       "      <th>unpaid_principal_bal</th>\n",
       "      <th>loan_term</th>\n",
       "      <th>loan_to_value</th>\n",
       "      <th>number_of_borrowers</th>\n",
       "      <th>debt_to_income_ratio</th>\n",
       "      <th>borrower_credit_score</th>\n",
       "      <th>loan_purpose</th>\n",
       "      <th>insurance_percent</th>\n",
       "      <th>...</th>\n",
       "      <th>Richards-Walters</th>\n",
       "      <th>Richardson Ltd</th>\n",
       "      <th>Romero, Woods and Johnson</th>\n",
       "      <th>Sanchez, Hays and Wilkerson</th>\n",
       "      <th>Sanchez-Robinson</th>\n",
       "      <th>Suarez Inc</th>\n",
       "      <th>Swanson, Newton and Miller</th>\n",
       "      <th>Taylor, Hunt and Rodriguez</th>\n",
       "      <th>Thornton-Davis</th>\n",
       "      <th>Turner, Baldwin and Rhodes</th>\n",
       "    </tr>\n",
       "  </thead>\n",
       "  <tbody>\n",
       "    <tr>\n",
       "      <th>0</th>\n",
       "      <td>3</td>\n",
       "      <td>4.250</td>\n",
       "      <td>214000</td>\n",
       "      <td>360</td>\n",
       "      <td>95</td>\n",
       "      <td>1.0</td>\n",
       "      <td>22.0</td>\n",
       "      <td>694.0</td>\n",
       "      <td>3</td>\n",
       "      <td>30.0</td>\n",
       "      <td>...</td>\n",
       "      <td>0</td>\n",
       "      <td>0</td>\n",
       "      <td>0</td>\n",
       "      <td>0</td>\n",
       "      <td>0</td>\n",
       "      <td>0</td>\n",
       "      <td>0</td>\n",
       "      <td>0</td>\n",
       "      <td>0</td>\n",
       "      <td>1</td>\n",
       "    </tr>\n",
       "    <tr>\n",
       "      <th>1</th>\n",
       "      <td>2</td>\n",
       "      <td>4.875</td>\n",
       "      <td>144000</td>\n",
       "      <td>360</td>\n",
       "      <td>72</td>\n",
       "      <td>1.0</td>\n",
       "      <td>44.0</td>\n",
       "      <td>697.0</td>\n",
       "      <td>2</td>\n",
       "      <td>0.0</td>\n",
       "      <td>...</td>\n",
       "      <td>0</td>\n",
       "      <td>0</td>\n",
       "      <td>0</td>\n",
       "      <td>0</td>\n",
       "      <td>0</td>\n",
       "      <td>0</td>\n",
       "      <td>1</td>\n",
       "      <td>0</td>\n",
       "      <td>0</td>\n",
       "      <td>0</td>\n",
       "    </tr>\n",
       "    <tr>\n",
       "      <th>2</th>\n",
       "      <td>3</td>\n",
       "      <td>3.250</td>\n",
       "      <td>366000</td>\n",
       "      <td>180</td>\n",
       "      <td>49</td>\n",
       "      <td>1.0</td>\n",
       "      <td>33.0</td>\n",
       "      <td>780.0</td>\n",
       "      <td>2</td>\n",
       "      <td>0.0</td>\n",
       "      <td>...</td>\n",
       "      <td>0</td>\n",
       "      <td>0</td>\n",
       "      <td>0</td>\n",
       "      <td>0</td>\n",
       "      <td>0</td>\n",
       "      <td>0</td>\n",
       "      <td>0</td>\n",
       "      <td>0</td>\n",
       "      <td>1</td>\n",
       "      <td>0</td>\n",
       "    </tr>\n",
       "    <tr>\n",
       "      <th>3</th>\n",
       "      <td>1</td>\n",
       "      <td>4.750</td>\n",
       "      <td>135000</td>\n",
       "      <td>360</td>\n",
       "      <td>46</td>\n",
       "      <td>2.0</td>\n",
       "      <td>44.0</td>\n",
       "      <td>633.0</td>\n",
       "      <td>2</td>\n",
       "      <td>0.0</td>\n",
       "      <td>...</td>\n",
       "      <td>0</td>\n",
       "      <td>0</td>\n",
       "      <td>0</td>\n",
       "      <td>0</td>\n",
       "      <td>0</td>\n",
       "      <td>0</td>\n",
       "      <td>0</td>\n",
       "      <td>0</td>\n",
       "      <td>0</td>\n",
       "      <td>0</td>\n",
       "    </tr>\n",
       "    <tr>\n",
       "      <th>4</th>\n",
       "      <td>1</td>\n",
       "      <td>4.750</td>\n",
       "      <td>124000</td>\n",
       "      <td>360</td>\n",
       "      <td>80</td>\n",
       "      <td>1.0</td>\n",
       "      <td>43.0</td>\n",
       "      <td>681.0</td>\n",
       "      <td>3</td>\n",
       "      <td>0.0</td>\n",
       "      <td>...</td>\n",
       "      <td>0</td>\n",
       "      <td>0</td>\n",
       "      <td>0</td>\n",
       "      <td>0</td>\n",
       "      <td>0</td>\n",
       "      <td>0</td>\n",
       "      <td>0</td>\n",
       "      <td>0</td>\n",
       "      <td>0</td>\n",
       "      <td>0</td>\n",
       "    </tr>\n",
       "  </tbody>\n",
       "</table>\n",
       "<p>5 rows × 44 columns</p>\n",
       "</div>"
      ],
      "text/plain": [
       "   source  interest_rate  unpaid_principal_bal  loan_term  loan_to_value  \\\n",
       "0       3          4.250                214000        360             95   \n",
       "1       2          4.875                144000        360             72   \n",
       "2       3          3.250                366000        180             49   \n",
       "3       1          4.750                135000        360             46   \n",
       "4       1          4.750                124000        360             80   \n",
       "\n",
       "   number_of_borrowers  debt_to_income_ratio  borrower_credit_score  \\\n",
       "0                  1.0                  22.0                  694.0   \n",
       "1                  1.0                  44.0                  697.0   \n",
       "2                  1.0                  33.0                  780.0   \n",
       "3                  2.0                  44.0                  633.0   \n",
       "4                  1.0                  43.0                  681.0   \n",
       "\n",
       "   loan_purpose  insurance_percent             ...              \\\n",
       "0             3               30.0             ...               \n",
       "1             2                0.0             ...               \n",
       "2             2                0.0             ...               \n",
       "3             2                0.0             ...               \n",
       "4             3                0.0             ...               \n",
       "\n",
       "   Richards-Walters  Richardson Ltd  Romero, Woods and Johnson  \\\n",
       "0                 0               0                          0   \n",
       "1                 0               0                          0   \n",
       "2                 0               0                          0   \n",
       "3                 0               0                          0   \n",
       "4                 0               0                          0   \n",
       "\n",
       "   Sanchez, Hays and Wilkerson  Sanchez-Robinson  Suarez Inc  \\\n",
       "0                            0                 0           0   \n",
       "1                            0                 0           0   \n",
       "2                            0                 0           0   \n",
       "3                            0                 0           0   \n",
       "4                            0                 0           0   \n",
       "\n",
       "   Swanson, Newton and Miller  Taylor, Hunt and Rodriguez  Thornton-Davis  \\\n",
       "0                           0                           0               0   \n",
       "1                           1                           0               0   \n",
       "2                           0                           0               1   \n",
       "3                           0                           0               0   \n",
       "4                           0                           0               0   \n",
       "\n",
       "   Turner, Baldwin and Rhodes  \n",
       "0                           1  \n",
       "1                           0  \n",
       "2                           0  \n",
       "3                           0  \n",
       "4                           0  \n",
       "\n",
       "[5 rows x 44 columns]"
      ]
     },
     "execution_count": 10,
     "metadata": {},
     "output_type": "execute_result"
    }
   ],
   "source": [
    "new_train.head()"
   ]
  },
  {
   "cell_type": "code",
   "execution_count": 11,
   "metadata": {},
   "outputs": [],
   "source": [
    "data = new_train.drop('m13',axis=1)"
   ]
  },
  {
   "cell_type": "code",
   "execution_count": 12,
   "metadata": {},
   "outputs": [
    {
     "name": "stderr",
     "output_type": "stream",
     "text": [
      "c:\\users\\bal\\appdata\\local\\programs\\python\\python37-32\\lib\\site-packages\\sklearn\\ensemble\\forest.py:246: FutureWarning: The default value of n_estimators will change from 10 in version 0.20 to 100 in 0.22.\n",
      "  \"10 in version 0.20 to 100 in 0.22.\", FutureWarning)\n"
     ]
    },
    {
     "name": "stdout",
     "output_type": "stream",
     "text": [
      "[2.48503418e-02 7.43034349e-02 9.35266755e-02 1.77436195e-02\n",
      " 7.30661452e-02 4.71676485e-03 8.10235760e-02 9.78541001e-02\n",
      " 2.34979348e-02 1.15562481e-02 3.30659382e-02 1.28122738e-03\n",
      " 7.91827006e-03 5.55551595e-03 5.23181599e-03 9.53449123e-03\n",
      " 1.68145120e-02 1.99451804e-02 2.45936901e-02 3.33654085e-02\n",
      " 2.08696363e-02 3.76053665e-02 5.60315089e-02 1.78667101e-01\n",
      " 5.93573756e-04 8.85760404e-03 2.88602002e-05 1.51398699e-03\n",
      " 3.86091596e-03 3.47629019e-03 2.45206948e-03 1.54927038e-03\n",
      " 1.01518320e-02 1.46554360e-03 5.91504722e-04 7.98805102e-04\n",
      " 2.83853733e-04 4.10051363e-04 9.56672252e-04 6.85763865e-03\n",
      " 1.38527372e-03 1.99090902e-04 1.94865950e-03]\n"
     ]
    }
   ],
   "source": [
    "from sklearn import datasets\n",
    "from sklearn import metrics\n",
    "from sklearn.ensemble import ExtraTreesClassifier\n",
    "model = ExtraTreesClassifier()\n",
    "model.fit(data, new_train['m13'])\n",
    "# display the relative importance of each attribute\n",
    "print(model.feature_importances_)"
   ]
  },
  {
   "cell_type": "code",
   "execution_count": 13,
   "metadata": {
    "scrolled": true
   },
   "outputs": [
    {
     "name": "stdout",
     "output_type": "stream",
     "text": [
      "[0.01233001 0.01830528 0.01373734 0.01477093 0.01356278 0.\n",
      " 0.02215577 0.05435108 0.01358063 0.01664508 0.04370252 0.01248214\n",
      " 0.03071959 0.03682696 0.02377059 0.03826782 0.02729272 0.02082177\n",
      " 0.03387236 0.05217101 0.06128293 0.03443655 0.06146958 0.30294466\n",
      " 0.         0.01791889 0.         0.         0.01633755 0.\n",
      " 0.         0.         0.         0.         0.         0.\n",
      " 0.         0.         0.         0.         0.         0.0062434\n",
      " 0.        ]\n"
     ]
    },
    {
     "data": {
      "image/png": "[encoded data removed]",
      "text/plain": [
       "<Figure size 432x288 with 1 Axes>"
      ]
     },
     "metadata": {
      "needs_background": "light"
     },
     "output_type": "display_data"
    }
   ],
   "source": [
    "# plot feature importance manually\n",
    "from numpy import loadtxt\n",
    "from xgboost import XGBClassifier\n",
    "from matplotlib import pyplot\n",
    "# fit model no training data\n",
    "model = XGBClassifier()\n",
    "model.fit(data, new_train['m13'])\n",
    "# feature importance\n",
    "print(model.feature_importances_)\n",
    "# plot\n",
    "pyplot.bar(range(len(model.feature_importances_)), model.feature_importances_)\n",
    "pyplot.show()"
   ]
  },
  {
   "cell_type": "code",
   "execution_count": 14,
   "metadata": {},
   "outputs": [
    {
     "data": {
      "image/png": "[encoded data removed]",
      "text/plain": [
       "<Figure size 432x288 with 1 Axes>"
      ]
     },
     "metadata": {
      "needs_background": "light"
     },
     "output_type": "display_data"
    }
   ],
   "source": [
    "from xgboost import plot_importance\n",
    "# fit model no training data\n",
    "model = XGBClassifier()\n",
    "model.fit(data, new_train['m13'])\n",
    "# plot feature importance\n",
    "plot_importance(model)\n",
    "pyplot.show()"
   ]
  },
  {
   "cell_type": "code",
   "execution_count": 16,
   "metadata": {},
   "outputs": [],
   "source": [
    "from sklearn.model_selection import train_test_split\n",
    "from sklearn.linear_model import LogisticRegression\n",
    "from sklearn.metrics import accuracy_score\n",
    "from sklearn.model_selection import train_test_split"
   ]
  },
  {
   "cell_type": "code",
   "execution_count": 17,
   "metadata": {},
   "outputs": [],
   "source": [
    "x_train, x_cv, y_train, y_cv = train_test_split(data,new_train['m13'], test_size =0.3)"
   ]
  },
  {
   "cell_type": "code",
   "execution_count": 19,
   "metadata": {},
   "outputs": [
    {
     "name": "stderr",
     "output_type": "stream",
     "text": [
      "c:\\users\\bal\\appdata\\local\\programs\\python\\python37-32\\lib\\site-packages\\sklearn\\linear_model\\logistic.py:433: FutureWarning: Default solver will be changed to 'lbfgs' in 0.22. Specify a solver to silence this warning.\n",
      "  FutureWarning)\n"
     ]
    },
    {
     "name": "stdout",
     "output_type": "stream",
     "text": [
      "99.38\n"
     ]
    }
   ],
   "source": [
    "model = LogisticRegression()\n",
    "model.fit(x_train, y_train)\n",
    "pred_cv = model.predict(x_cv)\n",
    "print(round(accuracy_score(y_cv,pred_cv)*100 ,2))"
   ]
  },
  {
   "cell_type": "code",
   "execution_count": 20,
   "metadata": {},
   "outputs": [],
   "source": [
    "from sklearn.metrics import f1_score"
   ]
  },
  {
   "cell_type": "code",
   "execution_count": 23,
   "metadata": {},
   "outputs": [
    {
     "data": {
      "text/plain": [
       "0.0"
      ]
     },
     "execution_count": 23,
     "metadata": {},
     "output_type": "execute_result"
    }
   ],
   "source": [
    "f1_score(y_cv, pred_cv, average='binary')"
   ]
  },
  {
   "cell_type": "code",
   "execution_count": null,
   "metadata": {},
   "outputs": [],
   "source": [
    "pred_test = model.predict(test)"
   ]
  },
  {
   "cell_type": "code",
   "execution_count": null,
   "metadata": {},
   "outputs": [],
   "source": []
  }
 ],
 "metadata": {
  "kernelspec": {
   "display_name": "Python 3",
   "language": "python",
   "name": "python3"
  },
  "language_info": {
   "codemirror_mode": {
    "name": "ipython",
    "version": 3
   },
   "file_extension": ".py",
   "mimetype": "text/x-python",
   "name": "python",
   "nbconvert_exporter": "python",
   "pygments_lexer": "ipython3",
   "version": "3.7.1"
  }
 },
 "nbformat": 4,
 "nbformat_minor": 2
}
