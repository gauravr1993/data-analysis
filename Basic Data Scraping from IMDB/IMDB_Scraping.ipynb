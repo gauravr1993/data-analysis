{
 "cells": [
  {
   "cell_type": "code",
   "execution_count": 1,
   "metadata": {},
   "outputs": [],
   "source": [
    "#Importing Libraries\n",
    "import requests\n",
    "from bs4 import BeautifulSoup\n",
    "import re\n",
    "import numpy as np\n",
    "import pandas as pd\n",
    "import matplotlib.pyplot as plt\n",
    "import seaborn as sns\n",
    "%matplotlib inline"
   ]
  },
  {
   "cell_type": "code",
   "execution_count": 2,
   "metadata": {},
   "outputs": [
    {
     "data": {
      "text/plain": [
       "str"
      ]
     },
     "execution_count": 2,
     "metadata": {},
     "output_type": "execute_result"
    }
   ],
   "source": [
    "#Getting Data\n",
    "url = 'http://www.imdb.com/chart/top'\n",
    "resp = requests.get(url)\n",
    "html = resp.text\n",
    "type(html)"
   ]
  },
  {
   "cell_type": "code",
   "execution_count": 3,
   "metadata": {},
   "outputs": [],
   "source": [
    "#Getting relevant data using BeautifulSoup\n",
    "soup = BeautifulSoup(html)\n",
    "pretty_soup = soup.prettify()\n",
    "\n",
    "movie_name = [desc.find('a').contents[0] for desc in soup.select('td.titleColumn')]\n",
    "Credits = [desc.find('a')['title'] for desc in soup.select('td.titleColumn')]\n",
    "year = [info.string for info in soup.select('td.titleColumn span.secondaryInfo')]\n",
    "votes = [vote['data-value'] for vote in soup.select('td.posterColumn span[name=nv]')]\n",
    "ratings = [rating['data-value'] for rating in soup.select('td.posterColumn span[name=ir]')]"
   ]
  },
  {
   "cell_type": "code",
   "execution_count": 4,
   "metadata": {},
   "outputs": [],
   "source": [
    "#Transforming Data \n",
    "years =  [re.search('\\((.*?)\\)', yr).group(1) for yr in year]\n",
    "Cast = [people.split(',') for people in Credits]\n",
    "Director,Actor1,Actor2 = [],[],[]\n",
    "for i in Cast:\n",
    "    Director.append(re.search('(.*) \\(dir.\\)', i[0]).group(1))\n",
    "    Actor1.append(i[1])\n",
    "    Actor2.append(i[2])"
   ]
  },
  {
   "cell_type": "code",
   "execution_count": 5,
   "metadata": {},
   "outputs": [],
   "source": [
    "#Converting the Data into a Pandas DataFrame\n",
    "Movie_List = pd.DataFrame({\n",
    "        'Movie Name' : movie_name,\n",
    "        'Release Date' : years,\n",
    "        'Director' : Director,\n",
    "        'Actor 1' : Actor1,\n",
    "        'Actor 2' : Actor2,\n",
    "        'Rating' : ratings,\n",
    "        'No. of Votes' : votes\n",
    "    },columns = ['Movie Name','Release Date','Director','Actor 1','Actor 2','No. of Votes','Rating'])\n",
    "Movie_List.index += 1\n",
    "Movie_List.index.name = 'Rank'\n",
    "Movie_List['Release Date'] = pd.to_numeric(Movie_List['Release Date'])"
   ]
  },
  {
   "cell_type": "code",
   "execution_count": 6,
   "metadata": {},
   "outputs": [],
   "source": [
    "#Saving into a CSV File\n",
    "Movie_List.to_csv('IMDB_Data.csv', encoding='utf-8')"
   ]
  },
  {
   "cell_type": "code",
   "execution_count": 7,
   "metadata": {},
   "outputs": [
    {
     "data": {
      "text/plain": [
       "<matplotlib.axes._subplots.AxesSubplot at 0xd5fc510>"
      ]
     },
     "execution_count": 7,
     "metadata": {},
     "output_type": "execute_result"
    },
    {
     "data": {
      "text/plain": [
       "<Figure size 432x288 with 0 Axes>"
      ]
     },
     "metadata": {},
     "output_type": "display_data"
    },
    {
     "data": {
      "image/png": "[encoded data removed]",
      "text/plain": [
       "<Figure size 720x360 with 1 Axes>"
      ]
     },
     "metadata": {
      "needs_background": "light"
     },
     "output_type": "display_data"
    }
   ],
   "source": [
    "#Top 10 Directors(Most Number of Movies) using Pandas Plot\n",
    "Movie_List.head()\n",
    "plt.figure(1)\n",
    "fig, ax = plt.subplots()\n",
    "fig.set_size_inches(10,5)\n",
    "Movie_List['Director'].value_counts().nlargest(10).plot(kind='bar')"
   ]
  },
  {
   "cell_type": "code",
   "execution_count": 8,
   "metadata": {},
   "outputs": [
    {
     "data": {
      "text/plain": [
       "<matplotlib.axes._subplots.AxesSubplot at 0xe7ad9f0>"
      ]
     },
     "execution_count": 8,
     "metadata": {},
     "output_type": "execute_result"
    },
    {
     "data": {
      "text/plain": [
       "<Figure size 432x288 with 0 Axes>"
      ]
     },
     "metadata": {},
     "output_type": "display_data"
    },
    {
     "data": {
      "image/png": "[encoded data removed]",
      "text/plain": [
       "<Figure size 1152x360 with 1 Axes>"
      ]
     },
     "metadata": {
      "needs_background": "light"
     },
     "output_type": "display_data"
    }
   ],
   "source": [
    "#Top 10 Actors(Most Number of Movies) using Seaborn(better-looking)\n",
    "plt.figure(2)\n",
    "fig, ax = plt.subplots()\n",
    "fig.set_size_inches(16,5)\n",
    "sns.barplot(x=Movie_List['Actor 1'].value_counts().nlargest(10).index, y=Movie_List['Actor 1'].value_counts().nlargest(10))"
   ]
  }
 ],
 "metadata": {
  "kernelspec": {
   "display_name": "Python 3",
   "language": "python",
   "name": "python3"
  },
  "language_info": {
   "codemirror_mode": {
    "name": "ipython",
    "version": 3
   },
   "file_extension": ".py",
   "mimetype": "text/x-python",
   "name": "python",
   "nbconvert_exporter": "python",
   "pygments_lexer": "ipython3",
   "version": "3.7.1"
  }
 },
 "nbformat": 4,
 "nbformat_minor": 1
}
