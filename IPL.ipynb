{
 "cells": [
  {
   "cell_type": "code",
   "execution_count": 1,
   "metadata": {},
   "outputs": [],
   "source": [
    "import numpy as np\n",
    "import pandas as pd\n",
    "import matplotlib.pyplot as plt\n",
    "import seaborn as sns"
   ]
  },
  {
   "cell_type": "code",
   "execution_count": 2,
   "metadata": {},
   "outputs": [
    {
     "name": "stdout",
     "output_type": "stream",
     "text": [
      "<class 'pandas.core.frame.DataFrame'>\n",
      "Int64Index: 636 entries, 0 to 635\n",
      "Data columns (total 18 columns):\n",
      "id                 636 non-null int64\n",
      "season             636 non-null int64\n",
      "city               629 non-null object\n",
      "date               636 non-null object\n",
      "team1              636 non-null object\n",
      "team2              636 non-null object\n",
      "toss_winner        636 non-null object\n",
      "toss_decision      636 non-null object\n",
      "result             636 non-null object\n",
      "dl_applied         636 non-null int64\n",
      "winner             633 non-null object\n",
      "win_by_runs        636 non-null int64\n",
      "win_by_wickets     636 non-null int64\n",
      "player_of_match    633 non-null object\n",
      "venue              636 non-null object\n",
      "umpire1            635 non-null object\n",
      "umpire2            635 non-null object\n",
      "umpire3            0 non-null float64\n",
      "dtypes: float64(1), int64(5), object(12)\n",
      "memory usage: 94.4+ KB\n"
     ]
    }
   ],
   "source": [
    "data = pd.read_csv('/home/indepay/Videos/ipl/matches.csv')\n",
    "data.info()"
   ]
  },
  {
   "cell_type": "code",
   "execution_count": 3,
   "metadata": {},
   "outputs": [],
   "source": [
    "data['city'].fillna('Dubai',inplace=True)"
   ]
  },
  {
   "cell_type": "code",
   "execution_count": 4,
   "metadata": {},
   "outputs": [
    {
     "name": "stdout",
     "output_type": "stream",
     "text": [
      "<class 'pandas.core.frame.DataFrame'>\n",
      "Int64Index: 636 entries, 0 to 635\n",
      "Data columns (total 18 columns):\n",
      "id                 636 non-null int64\n",
      "season             636 non-null int64\n",
      "city               636 non-null object\n",
      "date               636 non-null object\n",
      "team1              636 non-null object\n",
      "team2              636 non-null object\n",
      "toss_winner        636 non-null object\n",
      "toss_decision      636 non-null object\n",
      "result             636 non-null object\n",
      "dl_applied         636 non-null int64\n",
      "winner             633 non-null object\n",
      "win_by_runs        636 non-null int64\n",
      "win_by_wickets     636 non-null int64\n",
      "player_of_match    633 non-null object\n",
      "venue              636 non-null object\n",
      "umpire1            635 non-null object\n",
      "umpire2            635 non-null object\n",
      "umpire3            0 non-null float64\n",
      "dtypes: float64(1), int64(5), object(12)\n",
      "memory usage: 94.4+ KB\n"
     ]
    }
   ],
   "source": [
    "data.info()"
   ]
  },
  {
   "cell_type": "code",
   "execution_count": 28,
   "metadata": {},
   "outputs": [],
   "source": [
    "data['team2'] = data['team2'].replace('Rising Pune Supergiant','Rising Pune Supergiants')\n",
    "data['team1'] = data['team1'].replace('Rising Pune Supergiant','Rising Pune Supergiants')\n",
    "data['winner'] = data['winner'].replace('Rising Pune Supergiant','Rising Pune Supergiants')"
   ]
  },
  {
   "cell_type": "code",
   "execution_count": 29,
   "metadata": {},
   "outputs": [],
   "source": [
    "total_matches = data['team2'].value_counts() + data['team1'].value_counts()"
   ]
  },
  {
   "cell_type": "code",
   "execution_count": 30,
   "metadata": {},
   "outputs": [
    {
     "data": {
      "text/plain": [
       "Mumbai Indians                 92\n",
       "Chennai Super Kings            79\n",
       "Kolkata Knight Riders          77\n",
       "Royal Challengers Bangalore    73\n",
       "Kings XI Punjab                70\n",
       "Rajasthan Royals               63\n",
       "Delhi Daredevils               62\n",
       "Sunrisers Hyderabad            42\n",
       "Deccan Chargers                29\n",
       "Rising Pune Supergiants        15\n",
       "Gujarat Lions                  13\n",
       "Pune Warriors                  12\n",
       "Kochi Tuskers Kerala            6\n",
       "Name: winner, dtype: int64"
      ]
     },
     "execution_count": 30,
     "metadata": {},
     "output_type": "execute_result"
    }
   ],
   "source": [
    "data['winner'].value_counts()"
   ]
  },
  {
   "cell_type": "code",
   "execution_count": 51,
   "metadata": {},
   "outputs": [
    {
     "data": {
      "text/plain": [
       "<matplotlib.axes._subplots.AxesSubplot at 0x7fa5b6d9d3d0>"
      ]
     },
     "execution_count": 51,
     "metadata": {},
     "output_type": "execute_result"
    },
    {
     "data": {
      "text/plain": [
       "<Figure size 432x288 with 0 Axes>"
      ]
     },
     "metadata": {},
     "output_type": "display_data"
    },
    {
     "data": {
      "image/png": "[encoded data removed]",
      "text/plain": [
       "<Figure size 720x360 with 1 Axes>"
      ]
     },
     "metadata": {},
     "output_type": "display_data"
    }
   ],
   "source": [
    "win_percent = (data['winner'].value_counts())/total_matches\n",
    "new_index = ['CSK','DC','DD','GL','KXIP','KTK','KKR','MI','PWI','RR','RPS','RCB','SRH']\n",
    "win_percent.index = new_index\n",
    "plt.figure(1)\n",
    "fig, ax = plt.subplots()\n",
    "fig.set_size_inches(10, 5)\n",
    "sns.barplot(x=win_percent.index,y=win_percent.values)"
   ]
  },
  {
   "cell_type": "code",
   "execution_count": 56,
   "metadata": {},
   "outputs": [
    {
     "data": {
      "text/plain": [
       "CH Gayle           18\n",
       "YK Pathan          16\n",
       "DA Warner          15\n",
       "AB de Villiers     15\n",
       "RG Sharma          14\n",
       "SK Raina           14\n",
       "G Gambhir          13\n",
       "MS Dhoni           13\n",
       "MEK Hussey         12\n",
       "AM Rahane          12\n",
       "V Sehwag           11\n",
       "V Kohli            11\n",
       "DR Smith           11\n",
       "JH Kallis          10\n",
       "SR Watson          10\n",
       "KA Pollard          9\n",
       "SE Marsh            9\n",
       "A Mishra            9\n",
       "SR Tendulkar        8\n",
       "AT Rayudu           7\n",
       "RV Uthappa          7\n",
       "AC Gilchrist        7\n",
       "RA Jadeja           7\n",
       "Harbhajan Singh     6\n",
       "A Nehra             6\n",
       "BJ Hodge            6\n",
       "SP Narine           6\n",
       "M Vijay             6\n",
       "AD Russell          6\n",
       "UT Yadav            6\n",
       "                   ..\n",
       "SB Wagh             1\n",
       "AD Mascarenhas      1\n",
       "PP Ojha             1\n",
       "CRD Fernando        1\n",
       "AC Voges            1\n",
       "A Singh             1\n",
       "SM Katich           1\n",
       "HH Gibbs            1\n",
       "S Sreesanth         1\n",
       "AP Tare             1\n",
       "Shoaib Akhtar       1\n",
       "JJ Bumrah           1\n",
       "S Anirudha          1\n",
       "SB Jakati           1\n",
       "YS Chahal           1\n",
       "MR Marsh            1\n",
       "KS Williamson       1\n",
       "DJG Sammy           1\n",
       "Mohammed Siraj      1\n",
       "R Ashwin            1\n",
       "JD Ryder            1\n",
       "DL Vettori          1\n",
       "LH Ferguson         1\n",
       "SA Yadav            1\n",
       "WPUJC Vaas          1\n",
       "R Bhatia            1\n",
       "SP Goswami          1\n",
       "PD Collingwood      1\n",
       "TL Suman            1\n",
       "SA Asnodkar         1\n",
       "Name: player_of_match, dtype: int64"
      ]
     },
     "execution_count": 56,
     "metadata": {},
     "output_type": "execute_result"
    }
   ],
   "source": [
    "data['player_of_match'].value_counts()"
   ]
  }
 ],
 "metadata": {
  "kernelspec": {
   "display_name": "Python 2",
   "language": "python",
   "name": "python2"
  },
  "language_info": {
   "codemirror_mode": {
    "name": "ipython",
    "version": 2
   },
   "file_extension": ".py",
   "mimetype": "text/x-python",
   "name": "python",
   "nbconvert_exporter": "python",
   "pygments_lexer": "ipython2",
   "version": "2.7.5"
  }
 },
 "nbformat": 4,
 "nbformat_minor": 2
}
