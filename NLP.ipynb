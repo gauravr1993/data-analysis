{
 "cells": [
  {
   "cell_type": "code",
   "execution_count": 1,
   "metadata": {},
   "outputs": [],
   "source": [
    "import numpy as np\n",
    "import pandas as pd\n",
    "import nltk\n",
    "from nltk.tokenize import sent_tokenize, word_tokenize\n",
    "from nltk.corpus import stopwords\n",
    "from nltk.stem import WordNetLemmatizer\n",
    "from nltk.corpus import wordnet as wn\n",
    "from nltk.corpus import sentiwordnet as swn\n",
    "from nltk import pos_tag"
   ]
  },
  {
   "cell_type": "code",
   "execution_count": 7,
   "metadata": {},
   "outputs": [
    {
     "data": {
      "text/plain": [
       "\"[It was lovely experience staying with hotel Tokyo Palace.Friendly staff,cleanliness,best restaurant, best rooms. We booked camel safari from hotel itself by Daniel bhaiya who take care of all things, We had a good chat with him in between travel to desert. He told lots of...More, This place is the best place of Jaisalmer : the team is so nice and they help us for everything (taxi -shops - good adress ), Yusuf is really really nice with us : we are like guests here not tourists ! The swiming pool...More, Excellent friendly hotel with cleanest room and much nearest vicinity to the fort. We booked Safari from the hotel itself by Mr Sakhi who was also more than helpful with all the things. The view from the restaurant is amazing that too at night with...More, Thank you for your feedback. we are very glad you enjoy your stay in our hotel. hope to see you soon again in our hotel., thank you mr sakhi for pickup me at bus station. The hotel its very good, clean, very friendly staff, also can book from this hotel camel safari, bus, rent motor.. good view at rooftop.. thanks for everything. superb hotel, We arrived at Jaisalmer booking another hotel. We don't want to write it's name, but we couldn't stay there for another day!! We looked around and eventually we found that place. It changed our whole experience in Jaisalmer. The stuff is great, with helpful attitude....More]\""
      ]
     },
     "execution_count": 7,
     "metadata": {},
     "output_type": "execute_result"
    }
   ],
   "source": [
    "data = pd.read_csv('Hotel_Data.csv')\n",
    "data.head()['Reviews'][2]"
   ]
  },
  {
   "cell_type": "code",
   "execution_count": 9,
   "metadata": {},
   "outputs": [
    {
     "name": "stdout",
     "output_type": "stream",
     "text": [
      "10.0 4.375\n",
      "20.125 2.875\n",
      "11.5 2.5\n",
      "11.875 4.0\n",
      "8.25 2.125\n"
     ]
    }
   ],
   "source": [
    "reviews = data.tail()['Reviews']\n",
    "for review in reviews:\n",
    "    token_word = word_tokenize(review)\n",
    "    stop_words = set(stopwords.words('english'))\n",
    "    filtered_sentence = [w for w in token_word if not w in stop_words]\n",
    "    def penn_to_wn(tag):\n",
    "        if tag.startswith('J'):\n",
    "            return wn.ADJ\n",
    "        elif tag.startswith('N'):\n",
    "            return wn.NOUN\n",
    "        elif tag.startswith('R'):\n",
    "            return wn.ADV\n",
    "        elif tag.startswith('V'):\n",
    "            return wn.VERB\n",
    "        return None\n",
    "\n",
    "    tagged = nltk.pos_tag(filtered_sentence)\n",
    "    synsets = []\n",
    "    lemmatizer = WordNetLemmatizer()\n",
    "    pos_sum=0\n",
    "    neg_sum=0\n",
    "    for token in tagged:\n",
    "        wn_tag = penn_to_wn(token[1])\n",
    "        if not wn_tag:\n",
    "            continue\n",
    "        lemma = lemmatizer.lemmatize(token[0], pos=wn_tag)\n",
    "        if wn.synsets(lemma, pos=wn_tag):\n",
    "            current_token=list(swn.senti_synsets(lemma, pos=wn_tag))[0]\n",
    "            pos_sum+=current_token.pos_score()\n",
    "            neg_sum+=current_token.neg_score()\n",
    "            synsets.append(current_token)\n",
    "    result = pos_sum - neg_sum\n",
    "    print (pos_sum, neg_sum)\n",
    "#review"
   ]
  },
  {
   "cell_type": "code",
   "execution_count": 10,
   "metadata": {},
   "outputs": [
    {
     "data": {
      "text/plain": [
       "6.125"
      ]
     },
     "execution_count": 10,
     "metadata": {},
     "output_type": "execute_result"
    }
   ],
   "source": [
    "result"
   ]
  }
 ],
 "metadata": {
  "kernelspec": {
   "display_name": "Python 3",
   "language": "python",
   "name": "python3"
  },
  "language_info": {
   "codemirror_mode": {
    "name": "ipython",
    "version": 3
   },
   "file_extension": ".py",
   "mimetype": "text/x-python",
   "name": "python",
   "nbconvert_exporter": "python",
   "pygments_lexer": "ipython3",
   "version": "3.7.1"
  }
 },
 "nbformat": 4,
 "nbformat_minor": 1
}
