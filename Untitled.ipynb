{
 "cells": [
  {
   "cell_type": "code",
   "execution_count": 5,
   "metadata": {
    "collapsed": true
   },
   "outputs": [],
   "source": [
    "import requests\n",
    "from bs4 import BeautifulSoup\n",
    "import re\n",
    "import numpy as np\n",
    "import pandas as pd\n",
    "import json"
   ]
  },
  {
   "cell_type": "code",
   "execution_count": 2,
   "metadata": {
    "collapsed": false
   },
   "outputs": [],
   "source": [
    "url = 'https://play.google.com/store/apps/collection/promotion_30017ea_starterkit_games'\n",
    "resp = requests.get(url)\n",
    "html = resp.text\n",
    "\n",
    "domain = \"https://play.google.com\"\n",
    "review_url = '&showAllReviews=true'\n",
    "\n",
    "soup = BeautifulSoup(html)"
   ]
  },
  {
   "cell_type": "code",
   "execution_count": 3,
   "metadata": {
    "collapsed": false
   },
   "outputs": [
    {
     "name": "stdout",
     "output_type": "stream",
     "text": [
      "[u'Ludo King\\u2122', u'Subway Surfers', u'Temple Run 2', u'My Talking Tom', u'Hill Climb Racing', u'Dr. Driving', u'Moto Rider GO: Highway Traffic', u'Temple Run', u'Indian Train Simulator 2017', u'Hill Climb Racing 2', u'Bubble Shooter Legend', u'Piano Free - Keyboard with Magic Tiles Music Games', u'Train Driving Free  -Train Games', u'Roll the Ball\\xae - slide puzzle', u'Crazy for Speed', u'Oggy', u'World Tag Team Stars Wrestling Revolution 2018 Pro', u'Mountain Car Drive', u'Train Racing Games 3D 2 Player', u'Trial Xtreme 4', u'Power Pop Bubbles', u'My Talking Angela', u'Bus Rush', u'Racing Xtreme: Fast Rally Driver 3D', u'Extreme Car Driving Simulator', u'Tractor Drive 3D : Offroad Sim Farming Game', u'Driving School 2017', u'Archery King', u'Bubble Shooter', u'Shadow Fight 3', u'DEAD TARGET: FPS Zombie Apocalypse Survival Games', u'Drag Battle Racing', u'Moto Traffic Race 2: Multiplayer', u'Fruit Ninja\\xae', u'Traffic Rider', u'8 Ball Pool', u'Stupid Zombies', u'FZ9: Timeshift - Legacy of War', u'Food Truck Chef\\u2122: Cooking Game', u'Angry Birds Match', u'Trials Frontier', u'Need for Speed\\u2122 No Limits', u'Extreme Impossible Tracks Stunt Car Racing', u'Indian Train Racing Games 3D - Multiplayer']\n"
     ]
    }
   ],
   "source": [
    "app_name = [app['title'] for app in soup.select('a.title')]\n",
    "studio_name = [studio['title'] for studio in soup.select('a.subtitle')]\n",
    "game_desc = [desc.contents[0] for desc in soup.select('div.description')]\n",
    "rating_text = [text['aria-label'] for text in soup.select('div.tiny-star')]\n",
    "rating = []\n",
    "rating = [el.split()[1] for el in rating_text]\n",
    "app_link = [desc['href'] for desc in soup.select('a.title')]\n",
    "\n",
    "print app_name"
   ]
  },
  {
   "cell_type": "code",
   "execution_count": 6,
   "metadata": {
    "collapsed": false
   },
   "outputs": [
    {
     "name": "stdout",
     "output_type": "stream",
     "text": [
      "https://play.google.com/store/apps/details?id=com.ludo.king&showAllReviews=true\n"
     ]
    },
    {
     "ename": "AttributeError",
     "evalue": "'NoneType' object has no attribute 'text'",
     "output_type": "error",
     "traceback": [
      "\u001b[0;31m---------------------------------------------------------------------------\u001b[0m",
      "\u001b[0;31mAttributeError\u001b[0m                            Traceback (most recent call last)",
      "\u001b[0;32m<ipython-input-6-c3bb5b3cab8b>\u001b[0m in \u001b[0;36m<module>\u001b[0;34m()\u001b[0m\n\u001b[1;32m      6\u001b[0m \u001b[0msoup2\u001b[0m \u001b[1;33m=\u001b[0m \u001b[0mBeautifulSoup\u001b[0m\u001b[1;33m(\u001b[0m\u001b[0mreviews_text\u001b[0m\u001b[1;33m)\u001b[0m\u001b[1;33m\u001b[0m\u001b[0m\n\u001b[1;32m      7\u001b[0m \u001b[1;31m#print soup2\u001b[0m\u001b[1;33m\u001b[0m\u001b[1;33m\u001b[0m\u001b[0m\n\u001b[0;32m----> 8\u001b[0;31m \u001b[0mdata\u001b[0m \u001b[1;33m=\u001b[0m \u001b[0mjson\u001b[0m\u001b[1;33m.\u001b[0m\u001b[0mloads\u001b[0m\u001b[1;33m(\u001b[0m\u001b[0msoup\u001b[0m\u001b[1;33m.\u001b[0m\u001b[0mfind\u001b[0m\u001b[1;33m(\u001b[0m\u001b[1;34m'script'\u001b[0m\u001b[1;33m,\u001b[0m \u001b[0mtype\u001b[0m\u001b[1;33m=\u001b[0m\u001b[1;34m'application/ld+json'\u001b[0m\u001b[1;33m)\u001b[0m\u001b[1;33m.\u001b[0m\u001b[0mtext\u001b[0m\u001b[1;33m)\u001b[0m\u001b[1;33m\u001b[0m\u001b[0m\n\u001b[0m\u001b[1;32m      9\u001b[0m \u001b[1;32mprint\u001b[0m \u001b[0mdata\u001b[0m\u001b[1;33m\u001b[0m\u001b[0m\n",
      "\u001b[0;31mAttributeError\u001b[0m: 'NoneType' object has no attribute 'text'"
     ]
    }
   ],
   "source": [
    "req_url = domain + app_link[0] + review_url\n",
    "print req_url\n",
    "review_resp = requests.get(req_url)\n",
    "reviews_text = review_resp.text\n",
    "\n",
    "soup2 = BeautifulSoup(reviews_text)\n",
    "#print soup2\n",
    "data = json.loads(soup.find('script', type='application/ld+json').text)\n",
    "print data"
   ]
  }
 ],
 "metadata": {
  "kernelspec": {
   "display_name": "Python 2",
   "language": "python",
   "name": "python2"
  },
  "language_info": {
   "codemirror_mode": {
    "name": "ipython",
    "version": 2
   },
   "file_extension": ".py",
   "mimetype": "text/x-python",
   "name": "python",
   "nbconvert_exporter": "python",
   "pygments_lexer": "ipython2",
   "version": "2.7.11"
  }
 },
 "nbformat": 4,
 "nbformat_minor": 1
}
